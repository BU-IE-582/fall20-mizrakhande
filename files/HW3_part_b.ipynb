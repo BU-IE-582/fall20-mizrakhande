{
 "cells": [
  {
   "cell_type": "code",
   "execution_count": 1,
   "metadata": {},
   "outputs": [],
   "source": [
    "import pandas as pd\n",
    "import numpy as np\n",
    "from sklearn.linear_model import LinearRegression\n",
    "from sklearn import datasets, linear_model\n",
    "import matplotlib.pyplot as plt \n",
    "\n",
    "data=pd.read_csv(\"GercekZamanliTuketim-01012016-01122020.csv\", encoding =\"ISO-8859-1\")\n",
    "data=data.apply(lambda x: x.str.replace('.',''))\n",
    "data=data.apply(lambda x: x.str.replace(',','.'))\n",
    "data['Tüketim Miktarý (MWh)'] = data['Tüketim Miktarý (MWh)'].astype(float)\n",
    "data.insert(0,'Index',range(0,len(data)))\n",
    "\n",
    "\n",
    "##Lag_168\n",
    "lag_168_index=data[168:]['Index']-168\n",
    "lag_168=data[data['Index'].isin(lag_168_index)]['Tüketim Miktarý (MWh)']\n",
    "\n",
    "\n",
    "##Lag_48\n",
    "lag_48_index=data[168:]['Index']-48\n",
    "lag_48=data[data['Index'].isin(lag_48_index)]['Tüketim Miktarý (MWh)'].to_frame()\n",
    "lag_48.reset_index(inplace = True)"
   ]
  },
  {
   "cell_type": "markdown",
   "metadata": {},
   "source": [
    "Using the same logic in part a, I calculated lag_168 and lag_48 values for each observation in the data."
   ]
  },
  {
   "cell_type": "code",
   "execution_count": 2,
   "metadata": {},
   "outputs": [
    {
     "data": {
      "text/html": [
       "<div>\n",
       "<style scoped>\n",
       "    .dataframe tbody tr th:only-of-type {\n",
       "        vertical-align: middle;\n",
       "    }\n",
       "\n",
       "    .dataframe tbody tr th {\n",
       "        vertical-align: top;\n",
       "    }\n",
       "\n",
       "    .dataframe thead th {\n",
       "        text-align: right;\n",
       "    }\n",
       "</style>\n",
       "<table border=\"1\" class=\"dataframe\">\n",
       "  <thead>\n",
       "    <tr style=\"text-align: right;\">\n",
       "      <th></th>\n",
       "      <th>index</th>\n",
       "      <th>Date</th>\n",
       "      <th>Hour</th>\n",
       "      <th>Lag_48</th>\n",
       "      <th>Lag_168</th>\n",
       "      <th>Consumption</th>\n",
       "    </tr>\n",
       "  </thead>\n",
       "  <tbody>\n",
       "    <tr>\n",
       "      <th>0</th>\n",
       "      <td>168</td>\n",
       "      <td>08012016</td>\n",
       "      <td>0:00</td>\n",
       "      <td>29189.27</td>\n",
       "      <td>26277.24</td>\n",
       "      <td>28602.02</td>\n",
       "    </tr>\n",
       "    <tr>\n",
       "      <th>1</th>\n",
       "      <td>169</td>\n",
       "      <td>08012016</td>\n",
       "      <td>1:00</td>\n",
       "      <td>27614.02</td>\n",
       "      <td>24991.82</td>\n",
       "      <td>27112.37</td>\n",
       "    </tr>\n",
       "    <tr>\n",
       "      <th>2</th>\n",
       "      <td>170</td>\n",
       "      <td>08012016</td>\n",
       "      <td>2:00</td>\n",
       "      <td>26578.97</td>\n",
       "      <td>23532.61</td>\n",
       "      <td>25975.34</td>\n",
       "    </tr>\n",
       "    <tr>\n",
       "      <th>3</th>\n",
       "      <td>171</td>\n",
       "      <td>08012016</td>\n",
       "      <td>3:00</td>\n",
       "      <td>25719.19</td>\n",
       "      <td>22464.78</td>\n",
       "      <td>25315.55</td>\n",
       "    </tr>\n",
       "    <tr>\n",
       "      <th>4</th>\n",
       "      <td>172</td>\n",
       "      <td>08012016</td>\n",
       "      <td>4:00</td>\n",
       "      <td>25864.63</td>\n",
       "      <td>22002.91</td>\n",
       "      <td>25128.15</td>\n",
       "    </tr>\n",
       "    <tr>\n",
       "      <th>...</th>\n",
       "      <td>...</td>\n",
       "      <td>...</td>\n",
       "      <td>...</td>\n",
       "      <td>...</td>\n",
       "      <td>...</td>\n",
       "      <td>...</td>\n",
       "    </tr>\n",
       "    <tr>\n",
       "      <th>42955</th>\n",
       "      <td>43123</td>\n",
       "      <td>01122020</td>\n",
       "      <td>19:00</td>\n",
       "      <td>36310.77</td>\n",
       "      <td>40895.17</td>\n",
       "      <td>40720.16</td>\n",
       "    </tr>\n",
       "    <tr>\n",
       "      <th>42956</th>\n",
       "      <td>43124</td>\n",
       "      <td>01122020</td>\n",
       "      <td>20:00</td>\n",
       "      <td>35383.08</td>\n",
       "      <td>39240.65</td>\n",
       "      <td>39195.74</td>\n",
       "    </tr>\n",
       "    <tr>\n",
       "      <th>42957</th>\n",
       "      <td>43125</td>\n",
       "      <td>01122020</td>\n",
       "      <td>21:00</td>\n",
       "      <td>34491.45</td>\n",
       "      <td>38366.41</td>\n",
       "      <td>38310.79</td>\n",
       "    </tr>\n",
       "    <tr>\n",
       "      <th>42958</th>\n",
       "      <td>43126</td>\n",
       "      <td>01122020</td>\n",
       "      <td>22:00</td>\n",
       "      <td>33698.14</td>\n",
       "      <td>37446.73</td>\n",
       "      <td>37173.97</td>\n",
       "    </tr>\n",
       "    <tr>\n",
       "      <th>42959</th>\n",
       "      <td>43127</td>\n",
       "      <td>01122020</td>\n",
       "      <td>23:00</td>\n",
       "      <td>32295.74</td>\n",
       "      <td>36186.83</td>\n",
       "      <td>35725.46</td>\n",
       "    </tr>\n",
       "  </tbody>\n",
       "</table>\n",
       "<p>42888 rows × 6 columns</p>\n",
       "</div>"
      ],
      "text/plain": [
       "       index      Date   Hour    Lag_48   Lag_168  Consumption\n",
       "0        168  08012016   0:00  29189.27  26277.24     28602.02\n",
       "1        169  08012016   1:00  27614.02  24991.82     27112.37\n",
       "2        170  08012016   2:00  26578.97  23532.61     25975.34\n",
       "3        171  08012016   3:00  25719.19  22464.78     25315.55\n",
       "4        172  08012016   4:00  25864.63  22002.91     25128.15\n",
       "...      ...       ...    ...       ...       ...          ...\n",
       "42955  43123  01122020  19:00  36310.77  40895.17     40720.16\n",
       "42956  43124  01122020  20:00  35383.08  39240.65     39195.74\n",
       "42957  43125  01122020  21:00  34491.45  38366.41     38310.79\n",
       "42958  43126  01122020  22:00  33698.14  37446.73     37173.97\n",
       "42959  43127  01122020  23:00  32295.74  36186.83     35725.46\n",
       "\n",
       "[42888 rows x 6 columns]"
      ]
     },
     "execution_count": 2,
     "metadata": {},
     "output_type": "execute_result"
    }
   ],
   "source": [
    "column_names = [\"Date\", \"Hour\", \"Lag_48\",\"Lag_168\",\"Consumption\"]\n",
    "df = pd.DataFrame(columns = column_names)\n",
    "df['Date']=data.iloc[168:,1]\n",
    "df['Hour']=data.iloc[168:,2]\n",
    "df['Consumption']=data.iloc[168:,3]\n",
    "df.reset_index(inplace = True) \n",
    "df['Lag_168']=lag_168\n",
    "df['Lag_48']=lag_48.loc[:,'Tüketim Miktarý (MWh)']\n",
    "\n",
    "df.drop(df.loc[df['Date']=='27032016'].index, inplace=True)\n",
    "df.drop(df.loc[df['Date']=='29032016'].index, inplace=True)\n",
    "df.drop(df.loc[df['Date']=='03042016'].index, inplace=True)\n",
    "df"
   ]
  },
  {
   "cell_type": "markdown",
   "metadata": {},
   "source": [
    "Then I represented the data in the long format. And I removed 3 dates (27.03.2016, 29.03.2016 and 03.04.2016) from the data since there is a misleading hour consumption value on 27.03.2016."
   ]
  },
  {
   "cell_type": "code",
   "execution_count": 3,
   "metadata": {},
   "outputs": [],
   "source": [
    "train_data=df.iloc[0:42144,:]\n",
    "test_data=df.iloc[42144:,:]\n",
    "\n",
    "features=['Lag_48','Lag_168']\n",
    "X_train = train_data.loc[:,features]\n",
    "X_test = test_data.loc[:,features]\n",
    "\n",
    "y_train = train_data.loc[:,'Consumption']\n",
    "y_test = test_data.loc[:,'Consumption'].to_numpy()"
   ]
  },
  {
   "cell_type": "markdown",
   "metadata": {},
   "source": [
    "I splitted the data into train and test data. My linear regression model will include aforementioned two features which are Lag_48 and Lag_168 and an intercept."
   ]
  },
  {
   "cell_type": "code",
   "execution_count": 4,
   "metadata": {},
   "outputs": [
    {
     "name": "stdout",
     "output_type": "stream",
     "text": [
      "MAPE:  4.231015002127865\n",
      "[0.309055   0.64303152]\n",
      "1570.1845382977372\n"
     ]
    }
   ],
   "source": [
    "regr = linear_model.LinearRegression()\n",
    "regr.fit(X_train, y_train)\n",
    "y_pred = regr.predict(X_test)\n",
    "\n",
    "def MAPE(Y_actual,Y_Predicted):\n",
    "    mape = np.mean(np.abs((Y_actual - Y_Predicted)/Y_actual))*100\n",
    "    return mape\n",
    "\n",
    "print(\"MAPE: \",MAPE(y_test,y_pred))\n",
    "print(regr.coef_)\n",
    "print(regr.intercept_)"
   ]
  },
  {
   "cell_type": "markdown",
   "metadata": {},
   "source": [
    "I trained my model using the data till 1st of November, 2020 and test on the rest. And corresponding Mape, coefficient and intercept values can be found above."
   ]
  },
  {
   "cell_type": "code",
   "execution_count": 5,
   "metadata": {},
   "outputs": [
    {
     "data": {
      "image/png": "[encoded data removed]",
      "text/plain": [
       "<Figure size 720x504 with 1 Axes>"
      ]
     },
     "metadata": {
      "needs_background": "light"
     },
     "output_type": "display_data"
    }
   ],
   "source": [
    "error=np.abs((y_test - y_pred)/y_test)*100\n",
    "fig = plt.figure(figsize =(10, 7)) \n",
    "plt.boxplot(error)\n",
    "plt.xlabel('Part_B_MAPE_values')  \n",
    "plt.show() "
   ]
  },
  {
   "cell_type": "markdown",
   "metadata": {},
   "source": []
  },
  {
   "cell_type": "code",
   "execution_count": null,
   "metadata": {},
   "outputs": [],
   "source": []
  }
 ],
 "metadata": {
  "kernelspec": {
   "display_name": "Python 3",
   "language": "python",
   "name": "python3"
  },
  "language_info": {
   "codemirror_mode": {
    "name": "ipython",
    "version": 3
   },
   "file_extension": ".py",
   "mimetype": "text/x-python",
   "name": "python",
   "nbconvert_exporter": "python",
   "pygments_lexer": "ipython3",
   "version": "3.8.3"
  }
 },
 "nbformat": 4,
 "nbformat_minor": 4
}
