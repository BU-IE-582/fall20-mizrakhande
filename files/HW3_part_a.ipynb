{
 "cells": [
  {
   "cell_type": "code",
   "execution_count": 9,
   "metadata": {},
   "outputs": [
    {
     "data": {
      "text/html": [
       "<div>\n",
       "<style scoped>\n",
       "    .dataframe tbody tr th:only-of-type {\n",
       "        vertical-align: middle;\n",
       "    }\n",
       "\n",
       "    .dataframe tbody tr th {\n",
       "        vertical-align: top;\n",
       "    }\n",
       "\n",
       "    .dataframe thead th {\n",
       "        text-align: right;\n",
       "    }\n",
       "</style>\n",
       "<table border=\"1\" class=\"dataframe\">\n",
       "  <thead>\n",
       "    <tr style=\"text-align: right;\">\n",
       "      <th></th>\n",
       "      <th>Index</th>\n",
       "      <th>Tarih</th>\n",
       "      <th>Saat</th>\n",
       "      <th>Tüketim Miktarý (MWh)</th>\n",
       "    </tr>\n",
       "  </thead>\n",
       "  <tbody>\n",
       "    <tr>\n",
       "      <th>0</th>\n",
       "      <td>0</td>\n",
       "      <td>01012016</td>\n",
       "      <td>0:00</td>\n",
       "      <td>26277.24</td>\n",
       "    </tr>\n",
       "    <tr>\n",
       "      <th>1</th>\n",
       "      <td>1</td>\n",
       "      <td>01012016</td>\n",
       "      <td>1:00</td>\n",
       "      <td>24991.82</td>\n",
       "    </tr>\n",
       "    <tr>\n",
       "      <th>2</th>\n",
       "      <td>2</td>\n",
       "      <td>01012016</td>\n",
       "      <td>2:00</td>\n",
       "      <td>23532.61</td>\n",
       "    </tr>\n",
       "    <tr>\n",
       "      <th>3</th>\n",
       "      <td>3</td>\n",
       "      <td>01012016</td>\n",
       "      <td>3:00</td>\n",
       "      <td>22464.78</td>\n",
       "    </tr>\n",
       "    <tr>\n",
       "      <th>4</th>\n",
       "      <td>4</td>\n",
       "      <td>01012016</td>\n",
       "      <td>4:00</td>\n",
       "      <td>22002.91</td>\n",
       "    </tr>\n",
       "    <tr>\n",
       "      <th>...</th>\n",
       "      <td>...</td>\n",
       "      <td>...</td>\n",
       "      <td>...</td>\n",
       "      <td>...</td>\n",
       "    </tr>\n",
       "    <tr>\n",
       "      <th>43123</th>\n",
       "      <td>43123</td>\n",
       "      <td>01122020</td>\n",
       "      <td>19:00</td>\n",
       "      <td>40720.16</td>\n",
       "    </tr>\n",
       "    <tr>\n",
       "      <th>43124</th>\n",
       "      <td>43124</td>\n",
       "      <td>01122020</td>\n",
       "      <td>20:00</td>\n",
       "      <td>39195.74</td>\n",
       "    </tr>\n",
       "    <tr>\n",
       "      <th>43125</th>\n",
       "      <td>43125</td>\n",
       "      <td>01122020</td>\n",
       "      <td>21:00</td>\n",
       "      <td>38310.79</td>\n",
       "    </tr>\n",
       "    <tr>\n",
       "      <th>43126</th>\n",
       "      <td>43126</td>\n",
       "      <td>01122020</td>\n",
       "      <td>22:00</td>\n",
       "      <td>37173.97</td>\n",
       "    </tr>\n",
       "    <tr>\n",
       "      <th>43127</th>\n",
       "      <td>43127</td>\n",
       "      <td>01122020</td>\n",
       "      <td>23:00</td>\n",
       "      <td>35725.46</td>\n",
       "    </tr>\n",
       "  </tbody>\n",
       "</table>\n",
       "<p>43128 rows × 4 columns</p>\n",
       "</div>"
      ],
      "text/plain": [
       "       Index     Tarih   Saat  Tüketim Miktarý (MWh)\n",
       "0          0  01012016   0:00               26277.24\n",
       "1          1  01012016   1:00               24991.82\n",
       "2          2  01012016   2:00               23532.61\n",
       "3          3  01012016   3:00               22464.78\n",
       "4          4  01012016   4:00               22002.91\n",
       "...      ...       ...    ...                    ...\n",
       "43123  43123  01122020  19:00               40720.16\n",
       "43124  43124  01122020  20:00               39195.74\n",
       "43125  43125  01122020  21:00               38310.79\n",
       "43126  43126  01122020  22:00               37173.97\n",
       "43127  43127  01122020  23:00               35725.46\n",
       "\n",
       "[43128 rows x 4 columns]"
      ]
     },
     "execution_count": 9,
     "metadata": {},
     "output_type": "execute_result"
    }
   ],
   "source": [
    "import numpy as np\n",
    "import pandas as pd\n",
    "from sklearn.linear_model import LinearRegression\n",
    "from sklearn.metrics import mean_absolute_error\n",
    "import matplotlib.pyplot as plt \n",
    "\n",
    "\n",
    "data=pd.read_csv(\"GercekZamanliTuketim-01012016-01122020.csv\", encoding =\"ISO-8859-1\")\n",
    "data=data.apply(lambda x: x.str.replace('.',''))\n",
    "data=data.apply(lambda x: x.str.replace(',','.'))\n",
    "data['Tüketim Miktarý (MWh)'] = data['Tüketim Miktarý (MWh)'].astype(float)\n",
    "data.insert(0,'Index',range(0,len(data)))\n",
    "data"
   ]
  },
  {
   "cell_type": "markdown",
   "metadata": {},
   "source": [
    "I read the Electricity consumption data from 1st of January, 2016 till the 1st of December, 2020."
   ]
  },
  {
   "cell_type": "code",
   "execution_count": 10,
   "metadata": {},
   "outputs": [
    {
     "name": "stdout",
     "output_type": "stream",
     "text": [
      "       Index     Tarih   Saat  Tüketim Miktarý (MWh)\n",
      "42384  42384  01112020   0:00               28701.62\n",
      "42385  42385  01112020   1:00               27254.15\n",
      "42386  42386  01112020   2:00               26078.57\n",
      "42387  42387  01112020   3:00               25449.47\n",
      "42388  42388  01112020   4:00               25324.01\n",
      "...      ...       ...    ...                    ...\n",
      "43123  43123  01122020  19:00               40720.16\n",
      "43124  43124  01122020  20:00               39195.74\n",
      "43125  43125  01122020  21:00               38310.79\n",
      "43126  43126  01122020  22:00               37173.97\n",
      "43127  43127  01122020  23:00               35725.46\n",
      "\n",
      "[744 rows x 4 columns]\n"
     ]
    },
    {
     "data": {
      "text/plain": [
       "array([28701.62, 27254.15, 26078.57, 25449.47, 25324.01, 25175.11,\n",
       "       25318.85, 24413.95, 24543.88, 25313.99, 26118.58, 26740.86,\n",
       "       26591.08, 27233.19, 27785.71, 28210.84, 29067.08, 30790.72,\n",
       "       32946.87, 32956.6 , 32385.78, 31581.64, 30837.27, 29743.71,\n",
       "       27931.36, 26891.54, 25998.67, 25374.78, 25145.69, 25529.95,\n",
       "       26497.51, 27939.62, 32244.73, 34128.79, 34530.73, 34792.4 ,\n",
       "       33256.31, 33967.69, 35239.46, 35526.07, 36552.09, 37959.05,\n",
       "       38720.5 , 37718.1 , 36872.26, 35834.28, 34616.98, 33151.95,\n",
       "       31301.07, 29875.22, 28908.73, 28211.  , 28054.92, 28199.32,\n",
       "       29044.15, 29957.26, 33415.53, 34985.68, 35251.33, 35451.9 ,\n",
       "       34191.43, 35387.31, 36868.67, 36997.12, 38021.9 , 39038.66,\n",
       "       39314.53, 38256.09, 37282.36, 36150.19, 34793.99, 33281.76,\n",
       "       31278.36, 29818.62, 28784.91, 28117.57, 27905.46, 28226.5 ,\n",
       "       28966.82, 29817.81, 34004.19, 36566.7 , 36953.41, 37624.94,\n",
       "       36237.72, 37090.66, 37947.51, 37981.78, 38329.9 , 39271.36,\n",
       "       39548.13, 38494.77, 37670.14, 36398.73, 35086.17, 33533.38,\n",
       "       31494.01, 29936.75, 28798.7 , 28274.43, 28252.16, 28349.84,\n",
       "       29122.89, 30291.01, 33916.21, 36927.15, 37328.23, 37995.61,\n",
       "       36673.18, 37474.83, 38465.18, 38696.44, 39111.3 , 40006.89,\n",
       "       39891.23, 38979.84, 38004.31, 36617.62, 35449.89, 34053.6 ,\n",
       "       32009.92, 30508.49, 29373.18, 28514.08, 28223.05, 28561.94,\n",
       "       29420.99, 30594.99, 34438.66, 36638.12, 37023.74, 37426.55,\n",
       "       35504.94, 35730.2 , 37473.42, 37614.03, 38395.48, 39456.23,\n",
       "       39664.77, 38607.92, 37701.08, 36612.05, 35419.89, 34157.7 ,\n",
       "       32079.29, 30494.62, 29333.87, 28368.57, 28365.36, 28379.15,\n",
       "       29135.26, 29387.25, 32039.46, 33274.45, 33640.77, 33982.07,\n",
       "       32961.52, 33436.74, 33853.06, 34011.48, 34934.08, 36549.26,\n",
       "       38006.32, 37261.67, 36431.01, 35355.84, 34199.98, 32808.  ,\n",
       "       30770.2 , 29115.69, 27826.88, 27090.4 , 26889.26, 26760.23,\n",
       "       26929.14, 26111.23, 25452.79, 25483.71, 25872.33, 26296.87,\n",
       "       26247.39, 26979.75, 27311.96, 27914.76, 29768.9 , 32450.62,\n",
       "       34677.55, 34506.  , 33944.49, 33195.26, 32048.87, 30885.94,\n",
       "       29431.56, 27820.58, 26904.55, 26411.68, 26359.61, 26635.71,\n",
       "       27660.58, 29448.99, 33515.58, 34884.78, 34719.78, 34762.37,\n",
       "       32980.67, 33549.23, 35004.57, 35458.3 , 37024.05, 38939.01,\n",
       "       39482.19, 38524.1 , 37725.28, 36694.07, 35314.45, 33838.31,\n",
       "       32039.71, 30535.97, 29518.98, 28949.57, 28570.41, 28835.19,\n",
       "       29687.03, 31025.24, 34276.35, 35415.76, 35239.96, 35383.13,\n",
       "       33645.52, 34463.58, 35696.6 , 36271.37, 37674.58, 39588.11,\n",
       "       39930.95, 38616.6 , 38016.34, 36887.68, 35579.04, 34176.4 ,\n",
       "       32398.76, 30830.06, 29728.25, 28881.86, 28766.83, 28953.33,\n",
       "       29860.46, 31165.52, 34533.51, 35809.71, 35411.64, 35618.76,\n",
       "       34000.28, 34739.81, 36053.33, 36466.69, 37882.03, 39718.5 ,\n",
       "       40308.02, 39140.15, 37626.29, 37088.51, 35748.63, 34327.68,\n",
       "       32363.5 , 30840.8 , 29759.03, 28965.76, 28714.25, 29072.24,\n",
       "       30046.23, 31394.88, 34571.78, 35745.74, 35271.47, 35403.36,\n",
       "       33584.56, 34366.97, 35636.86, 36040.27, 37712.17, 38810.08,\n",
       "       40355.11, 39277.38, 38298.17, 37188.86, 35905.85, 34497.57,\n",
       "       32468.48, 30834.32, 29847.75, 29145.47, 28962.57, 29296.21,\n",
       "       30292.12, 31490.94, 34679.86, 35732.52, 35447.62, 35354.26,\n",
       "       32980.12, 33553.66, 35534.5 , 36199.2 , 37660.  , 39696.79,\n",
       "       39992.94, 38932.12, 37994.92, 36986.96, 35724.27, 34360.7 ,\n",
       "       32450.53, 30959.38, 29924.72, 29056.63, 28771.48, 29022.93,\n",
       "       29557.49, 30030.71, 32698.7 , 34328.19, 34717.16, 35131.  ,\n",
       "       34315.  , 34813.13, 35350.99, 35556.45, 36387.39, 37810.27,\n",
       "       38873.11, 37981.81, 37065.8 , 36019.15, 34725.68, 32784.78,\n",
       "       31048.02, 29392.24, 28260.55, 27501.22, 27232.02, 27252.27,\n",
       "       27401.45, 26907.92, 26786.69, 27095.15, 27488.11, 27999.92,\n",
       "       27963.55, 28531.22, 29082.54, 29875.9 , 31267.82, 33723.79,\n",
       "       35534.51, 35154.33, 34511.12, 33683.09, 32732.91, 31167.42,\n",
       "       29921.97, 27849.58, 27332.25, 26704.18, 26573.26, 27051.81,\n",
       "       28037.82, 29930.18, 34172.  , 36130.29, 36115.12, 36215.12,\n",
       "       34930.84, 35562.96, 36704.66, 37351.02, 38792.51, 40417.23,\n",
       "       40819.19, 39720.59, 38779.8 , 37567.66, 36467.46, 35142.84,\n",
       "       33050.14, 31434.38, 30240.4 , 29579.22, 29367.49, 29740.95,\n",
       "       30666.3 , 31968.39, 35379.53, 36886.53, 36641.78, 36658.02,\n",
       "       34863.45, 35626.05, 36604.82, 37306.6 , 38712.18, 40754.69,\n",
       "       41334.  , 40178.34, 39142.62, 38244.32, 36771.07, 35374.13,\n",
       "       33367.1 , 31647.21, 30472.93, 29671.27, 29514.25, 29866.15,\n",
       "       30633.98, 32002.03, 35510.91, 36754.2 , 36543.49, 36760.46,\n",
       "       35200.4 , 36006.68, 37557.1 , 38551.32, 39933.51, 41551.26,\n",
       "       41501.39, 40227.27, 39311.96, 37649.06, 36816.58, 35620.1 ,\n",
       "       33455.97, 31805.17, 30698.22, 29846.76, 29600.96, 29899.31,\n",
       "       30743.88, 32074.7 , 35610.62, 37711.29, 38233.15, 38704.74,\n",
       "       37415.32, 38196.98, 39412.98, 39853.82, 40918.91, 42208.11,\n",
       "       41673.45, 40553.66, 39499.32, 38429.24, 37270.44, 35731.83,\n",
       "       33651.81, 31949.53, 30832.3 , 29991.21, 29795.53, 29951.31,\n",
       "       30758.76, 32370.1 , 36386.47, 39029.49, 39834.37, 40475.03,\n",
       "       38482.23, 39003.06, 40727.71, 40550.85, 40976.32, 41854.37,\n",
       "       41564.3 , 40221.79, 38875.45, 37749.83, 36786.9 , 35102.41,\n",
       "       33697.36, 31916.72, 30692.47, 29828.03, 29425.4 , 29748.05,\n",
       "       30186.14, 30564.89, 32613.91, 34058.84, 34969.54, 35792.39,\n",
       "       34480.23, 35028.71, 35312.45, 35408.44, 36581.59, 38630.06,\n",
       "       39379.15, 38432.76, 37293.6 , 36304.68, 35250.2 , 33817.76,\n",
       "       31685.68, 30105.78, 28703.45, 28072.2 , 27651.6 , 27566.19,\n",
       "       27737.26, 27439.05, 26905.24, 27247.25, 27974.74, 28525.59,\n",
       "       28433.65, 28962.66, 29334.07, 30301.5 , 32108.31, 34919.68,\n",
       "       36647.32, 35999.47, 35183.37, 34230.51, 33602.91, 32178.03,\n",
       "       30426.  , 29097.77, 28176.27, 27599.2 , 27238.99, 27754.59,\n",
       "       28747.47, 30989.04, 35068.99, 36907.37, 37012.71, 36950.05,\n",
       "       35296.28, 35986.82, 37089.41, 37586.08, 39435.91, 41569.99,\n",
       "       41710.94, 40297.34, 38951.67, 37856.67, 36983.95, 35594.03,\n",
       "       33520.81, 31518.27, 30513.78, 29844.1 , 29650.85, 29873.42,\n",
       "       30934.51, 32239.3 , 35946.87, 37504.7 , 37515.08, 37261.41,\n",
       "       35845.55, 36583.2 , 37830.17, 38656.92, 40396.69, 42486.34,\n",
       "       42255.24, 40895.17, 39240.65, 38366.41, 37446.73, 36186.83,\n",
       "       33585.86, 32175.55, 31064.86, 30213.43, 29958.96, 30234.26,\n",
       "       31138.64, 32838.39, 36634.41, 38845.22, 39507.26, 39896.53,\n",
       "       38446.53, 39059.04, 40148.58, 40330.14, 41279.4 , 42837.79,\n",
       "       42412.8 , 41146.25, 39591.41, 38420.42, 37519.53, 36160.62,\n",
       "       33902.71, 32459.36, 31023.35, 30190.73, 30055.35, 30335.29,\n",
       "       31201.79, 32775.21, 36882.21, 39059.09, 39295.57, 39312.61,\n",
       "       37508.66, 38124.78, 39220.21, 39460.82, 40532.72, 42347.17,\n",
       "       42312.06, 40834.67, 39520.36, 38511.88, 37607.2 , 36156.08,\n",
       "       33896.52, 31841.72, 30897.69, 30191.2 , 29956.1 , 30199.97,\n",
       "       31015.63, 32518.79, 36129.99, 37851.53, 37808.82, 37668.32,\n",
       "       35381.81, 35587.14, 37205.46, 37760.66, 39543.01, 41895.73,\n",
       "       42003.77, 40806.68, 39426.67, 38446.22, 37356.91, 36119.57,\n",
       "       33935.56, 31919.44, 30439.27, 30020.41, 29825.63, 29984.86,\n",
       "       30444.97, 31159.67, 33325.74, 34868.28, 35457.72, 35822.08,\n",
       "       34607.24, 34962.65, 35338.14, 35645.57, 36905.2 , 39131.92,\n",
       "       40203.21, 39037.18, 38044.69, 37128.89, 36016.67, 34500.14,\n",
       "       32332.68, 30410.13, 29119.33, 28484.61, 28150.14, 28065.44,\n",
       "       28189.16, 27883.71, 27219.84, 27521.4 , 28332.1 , 29003.5 ,\n",
       "       28748.98, 29081.29, 29682.72, 30568.06, 32342.53, 35411.15,\n",
       "       36984.04, 36310.77, 35383.08, 34491.45, 33698.14, 32295.74,\n",
       "       30828.4 , 29350.31, 27689.33, 27608.55, 27566.71, 27897.84,\n",
       "       28873.2 , 31137.18, 35801.8 , 38418.47, 39192.32, 39662.29,\n",
       "       37989.93, 38856.83, 40062.14, 40599.6 , 41677.91, 43043.6 ,\n",
       "       42245.38, 40750.73, 39294.57, 38212.74, 37225.65, 35775.04,\n",
       "       33842.13, 32013.  , 30884.17, 30082.68, 29844.18, 30100.53,\n",
       "       30743.44, 32279.8 , 36657.05, 39815.64, 40846.18, 41320.19,\n",
       "       40054.73, 40874.3 , 41812.33, 41722.82, 42341.25, 43320.35,\n",
       "       42292.06, 40720.16, 39195.74, 38310.79, 37173.97, 35725.46])"
      ]
     },
     "execution_count": 10,
     "metadata": {},
     "output_type": "execute_result"
    }
   ],
   "source": [
    "test_data=data.iloc[42384:,:]\n",
    "print(test_data)\n",
    "y_test=test_data['Tüketim Miktarý (MWh)'].to_numpy()\n",
    "y_test"
   ]
  },
  {
   "cell_type": "markdown",
   "metadata": {},
   "source": [
    "Then, I splitted the data into test and train data. The test period includes the dates after 1st of November, 2020 (included)."
   ]
  },
  {
   "cell_type": "code",
   "execution_count": 11,
   "metadata": {},
   "outputs": [],
   "source": [
    "##Lag_168\n",
    "lag_values=test_data['Index']-168\n",
    "lag_168_prediction=data[data['Index'].isin(lag_values)]['Tüketim Miktarý (MWh)']\n",
    "lag_168_prediction=lag_168_prediction.to_numpy()\n",
    "Lag_168_error=np.abs((y_test - lag_168_prediction)/y_test)*100\n",
    "\n",
    "##Lag_48\n",
    "lag_values=test_data['Index']-48\n",
    "lag_48_prediction=data[data['Index'].isin(lag_values)]['Tüketim Miktarý (MWh)']\n",
    "lag_48_prediction=lag_48_prediction.to_numpy()\n",
    "Lag_48_error=np.abs((y_test - lag_48_prediction)/y_test)*100"
   ]
  },
  {
   "cell_type": "markdown",
   "metadata": {},
   "source": [
    "For this part, I was willing to use 168 and 48 hours ago consumption values to predict next day’s consumption. So, I calculated lag_168 and lag_48 values for each observation in the test data."
   ]
  },
  {
   "cell_type": "code",
   "execution_count": 12,
   "metadata": {},
   "outputs": [
    {
     "name": "stdout",
     "output_type": "stream",
     "text": [
      "MAPE for lag_168:  3.449188482612284\n",
      "MAPE for lag_48:  8.060314509077509\n"
     ]
    }
   ],
   "source": [
    "def MAPE(Y_actual,Y_Predicted):\n",
    "    mape = np.mean(np.abs((Y_actual - Y_Predicted)/Y_actual))*100\n",
    "    return mape\n",
    "\n",
    "result1=MAPE(y_test,lag_168_prediction)\n",
    "result2=MAPE(y_test,lag_48_prediction)\n",
    "\n",
    "print(\"MAPE for lag_168: \",result1)\n",
    "print(\"MAPE for lag_48: \",result2)"
   ]
  },
  {
   "cell_type": "markdown",
   "metadata": {},
   "source": [
    "In this part, to predict consumption values of 1st of November, 2020 I used 25th October, 2020's consumption values. After that, I calculated MAPE values for lag_168 and lag_48 predictions on the test data."
   ]
  },
  {
   "cell_type": "code",
   "execution_count": 13,
   "metadata": {},
   "outputs": [
    {
     "data": {
      "image/png": "[encoded data removed]",
      "text/plain": [
       "<Figure size 720x504 with 1 Axes>"
      ]
     },
     "metadata": {
      "needs_background": "light"
     },
     "output_type": "display_data"
    }
   ],
   "source": [
    "fig = plt.figure(figsize =(10, 7)) \n",
    "ax = fig.add_axes([0, 0, 1, 1]) \n",
    "data=[Lag_168_error,Lag_48_error]\n",
    "bp = ax.boxplot(data)\n",
    "ax.set_xticklabels(['Part_A_Lag_168_Box_Plot', 'Part_A_Lag_48_Box_Plot']) \n",
    "plt.show() "
   ]
  },
  {
   "cell_type": "markdown",
   "metadata": {},
   "source": [
    "Then I plotted boxplot of Mape values for each approach. It is known that daily and hourly seasonalities are very important in this type of prediction task. Therefore, I was expecting that using the last week’s same day and same hour consumption as primary predictor would give better results compared to using 48 hours ago consumption values. When this inside is checked by looking at the boxplots, we can basically say that this intuition is true since the mean of mape values for lag_168 is smaller than the mean of lag_48 predictions."
   ]
  },
  {
   "cell_type": "code",
   "execution_count": null,
   "metadata": {},
   "outputs": [],
   "source": []
  }
 ],
 "metadata": {
  "kernelspec": {
   "display_name": "Python 3",
   "language": "python",
   "name": "python3"
  },
  "language_info": {
   "codemirror_mode": {
    "name": "ipython",
    "version": 3
   },
   "file_extension": ".py",
   "mimetype": "text/x-python",
   "name": "python",
   "nbconvert_exporter": "python",
   "pygments_lexer": "ipython3",
   "version": "3.8.3"
  }
 },
 "nbformat": 4,
 "nbformat_minor": 4
}
