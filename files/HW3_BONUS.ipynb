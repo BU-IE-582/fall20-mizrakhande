{
 "cells": [
  {
   "cell_type": "code",
   "execution_count": 7,
   "metadata": {},
   "outputs": [],
   "source": [
    "import pandas as pd\n",
    "import numpy as np\n",
    "from sklearn import linear_model\n",
    "import matplotlib.pyplot as plt\n",
    "from sklearn.linear_model import LassoCV\n",
    "from sklearn.linear_model import Lasso\n",
    "import cvxpy as cp"
   ]
  },
  {
   "cell_type": "code",
   "execution_count": 8,
   "metadata": {},
   "outputs": [],
   "source": [
    "##Data Preperation\n",
    "data=pd.read_csv(\"GercekZamanliTuketim-01012016-01122020 - Copy.csv\", encoding =\"ISO-8859-1\")\n",
    "data=data.apply(lambda x: x.str.replace('.',''))\n",
    "data=data.apply(lambda x: x.str.replace(',','.'))\n",
    "data['Tüketim Miktarý (MWh)'] = data['Tüketim Miktarý (MWh)'].astype(float)\n",
    "data.insert(0,'Index',range(0,len(data)))\n",
    "\n",
    "\n",
    "##Lag_168\n",
    "lag_168_index=data[168:]['Index']-168\n",
    "lag_168=data[data['Index'].isin(lag_168_index)]['Tüketim Miktarý (MWh)']\n",
    "\n",
    "\n",
    "##Lag_48\n",
    "lag_48_index=data[168:]['Index']-48\n",
    "lag_48=data[data['Index'].isin(lag_48_index)]['Tüketim Miktarý (MWh)'].to_frame()\n",
    "lag_48.reset_index(inplace = True)\n",
    "\n",
    "column_names = [\"Date\", \"Hour\", \"Lag_48\",\"Lag_168\"]\n",
    "df = pd.DataFrame(columns = column_names)\n",
    "df['Date']=data.iloc[168:,1]\n",
    "df['Hour']=data.iloc[168:,2]\n",
    "df['Hour']=data.iloc[168:,2]\n",
    "df['Consumption']=data.iloc[168:,3]\n",
    "df.reset_index(inplace = True)\n",
    "df['Lag_168']=lag_168\n",
    "df['Lag_48']=lag_48.loc[:,'Tüketim Miktarý (MWh)']\n",
    "train_data=df.iloc[0:42216,:]\n",
    "test_data=df.iloc[42216:,:]\n",
    "\n",
    "new_train_data=train_data.pivot(index='Date', columns='Hour', values=[\"Lag_48\",\"Lag_168\",\"Consumption\"])\n",
    "new_test_data=test_data.pivot(index='Date', columns='Hour', values=[\"Lag_48\",\"Lag_168\",\"Consumption\"])\n",
    "\n",
    "\n"
   ]
  },
  {
   "cell_type": "markdown",
   "metadata": {},
   "source": [
    "Since I struggled with convergence problems of cvxpy package, I found a solution which is scaling the training and test data down by (1/100000)."
   ]
  },
  {
   "cell_type": "code",
   "execution_count": 9,
   "metadata": {},
   "outputs": [],
   "source": [
    "#X_train = final_train_data.iloc[:,0:48]\n",
    "X_train = new_train_data[['Lag_48', 'Lag_168']].values/100000\n",
    "#X_test = final_test_data.iloc[:,0:48]\n",
    "X_test = new_test_data[['Lag_48', 'Lag_168']].values/100000"
   ]
  },
  {
   "cell_type": "markdown",
   "metadata": {},
   "source": [
    "Below, I defined functions that manually formulates our new loss metric."
   ]
  },
  {
   "cell_type": "code",
   "execution_count": 10,
   "metadata": {},
   "outputs": [],
   "source": [
    "def loss_fn(X, Y, beta):\n",
    "    return cp.norm2(cp.matmul(X, beta) - Y)**2\n",
    "\n",
    "def regularizer(beta):\n",
    "    return cp.norm2(beta)\n",
    "\n",
    "def objective_fn2(X, Y, beta, lambd, lambd2):\n",
    "    return loss_fn(X, Y, beta) + lambd * regularizer(beta) + lambd2 * difference_pen(beta)\n",
    "\n",
    "def mse(X, Y, beta):\n",
    "    return (1.0 / X.shape[0]) * loss_fn(X, Y, beta).value\n",
    "\n",
    "def difference_pen(beta):\n",
    "    return cp.norm1(beta[1:]-beta[:-1])"
   ]
  },
  {
   "cell_type": "markdown",
   "metadata": {},
   "source": [
    "The training process that fits the optimum solution to our problem with manually defined loss is given below. First, I again scale down the \"y\" values by 10000 to avoid convergence problem. Second I defined the optimization problem using cvxpy package with predefined loss functions. Third, in order to determine lambda1 and lambda2 coefficients that determine the weights of our total loss metric, I searched in a log space between 10^-3 - 10^-1 on a validation set. I came up with this lambda value range by exploring wider ranges first with smaller data size due to computation complexity. I follow this procedure for each time(0,24) and eventually use the best lambda hyperparameters to train our model on our all training data. Finally, I calculated MAPe error for each observation in the test data using predictions from our final model."
   ]
  },
  {
   "cell_type": "code",
   "execution_count": 11,
   "metadata": {},
   "outputs": [],
   "source": [
    "error_list = []\n",
    "for i in range(0,24):\n",
    "    y_train = new_train_data.loc[:,('Consumption', str(i)+':00')].to_frame().values\n",
    "    y_test = new_test_data.loc[:,('Consumption', str(i)+':00')].to_frame().values\n",
    "    y_train = y_train.reshape(-1)/100000\n",
    "    y_test = y_test.reshape(-1)/100000\n",
    "    \n",
    "    beta = cp.Variable(48)\n",
    "    lambd = cp.Parameter(nonneg=True)\n",
    "    lambd2 = cp.Parameter(nonneg=True)\n",
    "    problem = cp.Problem(cp.Minimize(objective_fn2(X_train, y_train, beta, lambd, lambd2)))\n",
    "    \n",
    "    lambd_values = np.logspace(-3, -1, 20)\n",
    "    train_errors = []\n",
    "    val_errors = []\n",
    "    beta_values = []  \n",
    "    error = np.Infinity\n",
    "    for v in lambd_values:\n",
    "        for u in lambd_values:\n",
    "            lambd.value = v\n",
    "            lambd2.value = u\n",
    "            problem.solve()\n",
    "            train_errors.append(mse(X_train[:1250], y_train[:1250], beta))\n",
    "            val_errors.append(mse(X_train[1250:], y_train[1250:], beta))\n",
    "            beta_values.append(beta.value)\n",
    "            if mse(X_train[1250:], y_train[1250:], beta)<error:\n",
    "                error = mse(X_train[1250:], y_train[1250:], beta)\n",
    "                best_lambda1 = v\n",
    "                best_lambda2 = u\n",
    "                \n",
    "    beta = cp.Variable(48)\n",
    "    lambd = cp.Parameter(nonneg=True)\n",
    "    lambd2 = cp.Parameter(nonneg=True)\n",
    "    problem = cp.Problem(cp.Minimize(objective_fn2(X_train, y_train, beta, lambd, lambd2)))\n",
    "    lambd.value = best_lambda1\n",
    "    lambd2.value = best_lambda2\n",
    "    problem.solve()\n",
    "    y_pred = np.matmul(X_test, beta.value.reshape((48,1)))\n",
    "    \n",
    "    error_extended = np.divide(np.abs(y_test - y_pred.reshape(-1)), y_test) * 100\n",
    "    error_list.append(error_extended)"
   ]
  },
  {
   "cell_type": "markdown",
   "metadata": {},
   "source": [
    "Since hyperparameter search phase takes more than one hour to run, I recorded best lambda1,2 parameters for future use:\n",
    "best_lambda1= 0.001 best_lambda2= 0.001\n",
    "Final boxplot visualization is shown below:"
   ]
  },
  {
   "cell_type": "code",
   "execution_count": 12,
   "metadata": {},
   "outputs": [
    {
     "data": {
      "text/plain": [
       "<AxesSubplot:>"
      ]
     },
     "execution_count": 12,
     "metadata": {},
     "output_type": "execute_result"
    },
    {
     "data": {
      "image/png": "[encoded data removed]",
      "text/plain": [
       "<Figure size 432x288 with 1 Axes>"
      ]
     },
     "metadata": {
      "needs_background": "light"
     },
     "output_type": "display_data"
    }
   ],
   "source": [
    "df = pd.DataFrame(np.array(error_list).reshape(-1))\n",
    "df.plot.box(grid='True')"
   ]
  },
  {
   "cell_type": "markdown",
   "metadata": {},
   "source": [
    "This plot seems like very similar to the boxplot found in part d. So, we can conclude that the approaches followed in part d and bonus part give more accurate results in terms of MAPE among all other approaches.  "
   ]
  },
  {
   "cell_type": "code",
   "execution_count": null,
   "metadata": {},
   "outputs": [],
   "source": []
  }
 ],
 "metadata": {
  "kernelspec": {
   "display_name": "Python 3",
   "language": "python",
   "name": "python3"
  },
  "language_info": {
   "codemirror_mode": {
    "name": "ipython",
    "version": 3
   },
   "file_extension": ".py",
   "mimetype": "text/x-python",
   "name": "python",
   "nbconvert_exporter": "python",
   "pygments_lexer": "ipython3",
   "version": "3.8.3"
  }
 },
 "nbformat": 4,
 "nbformat_minor": 2
}
